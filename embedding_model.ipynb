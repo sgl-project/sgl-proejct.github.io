{
 "cells": [
  {
   "cell_type": "markdown",
   "metadata": {},
   "source": [
    "# Embedding Model"
   ]
  },
  {
   "cell_type": "markdown",
   "metadata": {},
   "source": [
    "## Launch A Server"
   ]
  },
  {
   "cell_type": "code",
   "execution_count": 1,
   "metadata": {
    "execution": {
     "iopub.execute_input": "2024-10-25T00:13:53.861985Z",
     "iopub.status.busy": "2024-10-25T00:13:53.861809Z",
     "iopub.status.idle": "2024-10-25T00:13:53.865386Z",
     "shell.execute_reply": "2024-10-25T00:13:53.864875Z"
    }
   },
   "outputs": [],
   "source": [
    "# import subprocess\n",
    "# import time\n",
    "# import requests\n",
    "\n",
    "# # Equivalent to running this in the shell:\n",
    "# # python -m sglang.launch_server --model-path Alibaba-NLP/gte-Qwen2-7B-instruct --port 30010 --host 0.0.0.0 --is-embedding --log-level error\n",
    "# embedding_process = subprocess.Popen(\n",
    "#     [\n",
    "#         \"python\",\n",
    "#         \"-m\",\n",
    "#         \"sglang.launch_server\",\n",
    "#         \"--model-path\",\n",
    "#         \"Alibaba-NLP/gte-Qwen2-7B-instruct\",\n",
    "#         \"--port\",\n",
    "#         \"30010\",\n",
    "#         \"--host\",\n",
    "#         \"0.0.0.0\",\n",
    "#         \"--is-embedding\",\n",
    "#         \"--log-level\",\n",
    "#         \"error\",\n",
    "#     ],\n",
    "#     text=True,\n",
    "#     stdout=subprocess.DEVNULL,\n",
    "#     stderr=subprocess.DEVNULL,\n",
    "# )\n",
    "\n",
    "# while True:\n",
    "#     try:\n",
    "#         response = requests.get(\n",
    "#             \"http://localhost:30010/v1/models\",\n",
    "#             headers={\"Authorization\": \"Bearer None\"},\n",
    "#         )\n",
    "#         if response.status_code == 200:\n",
    "#             break\n",
    "#     except requests.exceptions.RequestException:\n",
    "#         time.sleep(1)\n",
    "\n",
    "# print(\"Embedding server is ready. Proceeding with the next steps.\")"
   ]
  },
  {
   "cell_type": "markdown",
   "metadata": {},
   "source": [
    "## Use Curl"
   ]
  },
  {
   "cell_type": "code",
   "execution_count": 2,
   "metadata": {
    "execution": {
     "iopub.execute_input": "2024-10-25T00:13:53.867048Z",
     "iopub.status.busy": "2024-10-25T00:13:53.866871Z",
     "iopub.status.idle": "2024-10-25T00:13:53.869372Z",
     "shell.execute_reply": "2024-10-25T00:13:53.868898Z"
    }
   },
   "outputs": [],
   "source": [
    "# # Get the first 10 elements of the embedding\n",
    "\n",
    "# ! curl -s http://localhost:30010/v1/embeddings \\\n",
    "#   -H \"Content-Type: application/json\" \\\n",
    "#   -H \"Authorization: Bearer None\" \\\n",
    "#   -d '{\"model\": \"Alibaba-NLP/gte-Qwen2-7B-instruct\", \"input\": \"Once upon a time\"}' \\\n",
    "#   | python3 -c \"import sys, json; print(json.load(sys.stdin)['data'][0]['embedding'][:10])\""
   ]
  },
  {
   "cell_type": "markdown",
   "metadata": {},
   "source": [
    "## Using OpenAI Compatible API"
   ]
  },
  {
   "cell_type": "code",
   "execution_count": 3,
   "metadata": {
    "execution": {
     "iopub.execute_input": "2024-10-25T00:13:53.870955Z",
     "iopub.status.busy": "2024-10-25T00:13:53.870784Z",
     "iopub.status.idle": "2024-10-25T00:13:53.873293Z",
     "shell.execute_reply": "2024-10-25T00:13:53.872823Z"
    }
   },
   "outputs": [],
   "source": [
    "# import openai\n",
    "\n",
    "# client = openai.Client(\n",
    "#     base_url=\"http://127.0.0.1:30010/v1\", api_key=\"None\"\n",
    "# )\n",
    "\n",
    "# # Text embedding example\n",
    "# response = client.embeddings.create(\n",
    "#     model=\"Alibaba-NLP/gte-Qwen2-7B-instruct\",\n",
    "#     input=\"How are you today\",\n",
    "# )\n",
    "\n",
    "# embedding = response.data[0].embedding[:10]\n",
    "# print(embedding)"
   ]
  }
 ],
 "metadata": {
  "kernelspec": {
   "display_name": "AlphaMeemory",
   "language": "python",
   "name": "python3"
  },
  "language_info": {
   "codemirror_mode": {
    "name": "ipython",
    "version": 3
   },
   "file_extension": ".py",
   "mimetype": "text/x-python",
   "name": "python",
   "nbconvert_exporter": "python",
   "pygments_lexer": "ipython3",
   "version": "3.9.20"
  }
 },
 "nbformat": 4,
 "nbformat_minor": 2
}
